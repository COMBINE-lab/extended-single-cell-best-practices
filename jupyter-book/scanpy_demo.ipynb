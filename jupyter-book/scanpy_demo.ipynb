{
 "cells": [
  {
   "cell_type": "markdown",
   "metadata": {},
   "source": [
    "# Scanpy demo to test the environment"
   ]
  },
  {
   "cell_type": "code",
   "execution_count": 1,
   "metadata": {},
   "outputs": [],
   "source": [
    "import scanpy as sc"
   ]
  },
  {
   "cell_type": "code",
   "execution_count": 2,
   "metadata": {},
   "outputs": [
    {
     "name": "stderr",
     "output_type": "stream",
     "text": [
      "100%|██████████| 5.58M/5.58M [00:02<00:00, 2.69MB/s]\n"
     ]
    }
   ],
   "source": [
    "adata = sc.datasets.pbmc3k()"
   ]
  },
  {
   "cell_type": "code",
   "execution_count": 3,
   "metadata": {},
   "outputs": [
    {
     "data": {
      "text/plain": [
       "AnnData object with n_obs × n_vars = 2700 × 32738\n",
       "    var: 'gene_ids'"
      ]
     },
     "execution_count": 3,
     "metadata": {},
     "output_type": "execute_result"
    }
   ],
   "source": [
    "adata"
   ]
  },
  {
   "cell_type": "code",
   "execution_count": null,
   "metadata": {},
   "outputs": [],
   "source": [
    "# %load_ext rpy2.ipython"
   ]
  },
  {
   "cell_type": "code",
   "execution_count": null,
   "metadata": {},
   "outputs": [],
   "source": [
    "# %%R\n",
    "# install.packages(\"anndata\")"
   ]
  },
  {
   "cell_type": "code",
   "execution_count": null,
   "metadata": {},
   "outputs": [],
   "source": [
    "#%%R\n",
    "#library(anndata)\n",
    "#ad <- AnnData(\n",
    "#X = matrix(1:6, nrow = 2),\n",
    "#obs = data.frame(group = c(\"a\", \"b\"), row.names = c(\"s1\", \"s2\")),\n",
    "#var = data.frame(type = c(1L, 2L, 3L), row.names = c(\"var1\", \"var2\", \"var3\")),\n",
    "#layers = list(\n",
    "#spliced = matrix(4:9, nrow = 2),\n",
    "#unspliced = matrix(8:13, nrow = 2)\n",
    "#),\n",
    "#obsm = list(\n",
    "#ones = matrix(rep(1L, 10), nrow = 2),\n",
    "#rand = matrix(rnorm(6), nrow = 2),\n",
    "#zeros = matrix(rep(0L, 10), nrow = 2)\n",
    "#),\n",
    "#varm = list(\n",
    "#ones = matrix(rep(1L, 12), nrow = 3),\n",
    "#rand = matrix(rnorm(6), nrow = 3),\n",
    "#zeros = matrix(rep(0L, 12), nrow = 3)\n",
    "#),\n",
    "#uns = list(\n",
    "#a = 1,\n",
    "#b = data.frame(i = 1:3, j = 4:6, value = runif(3)),\n",
    "#c = list(c.a = 3, c.b = 4)\n",
    "#)\n",
    "#)\n",
    "#ad"
   ]
  }
 ],
 "metadata": {
  "interpreter": {
   "hash": "fb8decbc6cef3b7ad8754191fc1fb3220141935ab28b6b0e396377560bc42851"
  },
  "kernelspec": {
   "display_name": "Python 3.9.7 64-bit ('bp2': conda)",
   "language": "python",
   "name": "python3"
  },
  "language_info": {
   "codemirror_mode": {
    "name": "ipython",
    "version": 3
   },
   "file_extension": ".py",
   "mimetype": "text/x-python",
   "name": "python",
   "nbconvert_exporter": "python",
   "pygments_lexer": "ipython3",
   "version": "3.9.7"
  },
  "orig_nbformat": 4
 },
 "nbformat": 4,
 "nbformat_minor": 2
}
