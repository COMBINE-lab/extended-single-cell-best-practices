{
 "cells": [
  {
   "cell_type": "markdown",
   "id": "dbdde194-dc3c-4cf7-9e7d-3b2aeb9b64dd",
   "metadata": {},
   "source": [
    "# Advanced topic: Interactive visualization"
   ]
  },
  {
   "cell_type": "markdown",
   "id": "5ecf4287-2296-414f-9b43-beedba1dcc7c",
   "metadata": {},
   "source": [
    "**Benchmark:**\n",
    "Batuhan Cakir, Martin Prete, Ni Huang, Stijn van Dongen, Pinar Pir, Vladimir Yu Kiselev, Comparison of visualization tools for single-cell RNAseq data, NAR Genomics and Bioinformatics, Volume 2, Issue 3, September 2020, lqaa052, https://doi.org/10.1093/nargab/lqaa052"
   ]
  },
  {
   "cell_type": "markdown",
   "id": "1be575c0-d4b6-414d-8547-7104c665ef33",
   "metadata": {},
   "source": [
    "Recent developments in scRNAseq has exponentially increased the size and volumne of datasets. In many use cases it is favorable to explore your data in an easy and quick manner.   "
   ]
  },
  {
   "cell_type": "markdown",
   "id": "ee83fcf9-4115-4776-8995-c3a72d4614f6",
   "metadata": {},
   "source": [
    "Cakir et al. compared several of the most popular interactive analysis and visualization tools. \n",
    "\n",
    "* recommended tool: cellxgene for publishing and sharing scRNAseq data\n",
    "\n",
    "This tutorial guides you through the steps of launching cellxgene for your dataset. "
   ]
  }
 ],
 "metadata": {
  "kernelspec": {
   "display_name": "Python 3 (ipykernel)",
   "language": "python",
   "name": "python3"
  },
  "language_info": {
   "codemirror_mode": {
    "name": "ipython",
    "version": 3
   },
   "file_extension": ".py",
   "mimetype": "text/x-python",
   "name": "python",
   "nbconvert_exporter": "python",
   "pygments_lexer": "ipython3",
   "version": "3.8.11"
  }
 },
 "nbformat": 4,
 "nbformat_minor": 5
}
