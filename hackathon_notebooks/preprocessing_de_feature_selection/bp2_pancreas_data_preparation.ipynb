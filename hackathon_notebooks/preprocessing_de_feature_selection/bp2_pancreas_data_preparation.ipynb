{
 "cells": [
  {
   "cell_type": "code",
   "execution_count": 1,
   "id": "5b0b8aa5",
   "metadata": {},
   "outputs": [],
   "source": [
    "import scvelo as scv\n",
    "\n",
    "import scanpy as sc\n",
    "from scipy.sparse import issparse\n",
    "\n",
    "import rpy2.robjects as ro\n",
    "import anndata2ri"
   ]
  },
  {
   "cell_type": "code",
   "execution_count": 2,
   "id": "70f8586a-a72f-41fe-9a40-b216862d111a",
   "metadata": {},
   "outputs": [
    {
     "data": {
      "text/plain": [
       "AnnData object with n_obs × n_vars = 3696 × 27998\n",
       "    obs: 'clusters_coarse', 'clusters', 'S_score', 'G2M_score'\n",
       "    var: 'highly_variable_genes'\n",
       "    uns: 'clusters_coarse_colors', 'clusters_colors', 'day_colors', 'neighbors', 'pca'\n",
       "    obsm: 'X_pca', 'X_umap'\n",
       "    layers: 'spliced', 'unspliced'\n",
       "    obsp: 'distances', 'connectivities'"
      ]
     },
     "execution_count": 2,
     "metadata": {},
     "output_type": "execute_result"
    }
   ],
   "source": [
    "adata = scv.datasets.pancreas()\n",
    "adata"
   ]
  },
  {
   "cell_type": "code",
   "execution_count": 3,
   "id": "b96615d9-fa86-4b0e-9271-57c5b5abf176",
   "metadata": {},
   "outputs": [
    {
     "name": "stderr",
     "output_type": "stream",
     "text": [
      "R[write to console]: Attaching SeuratObject\n",
      "\n",
      "R[write to console]: Lade nötiges Paket: SingleCellExperiment\n",
      "\n",
      "R[write to console]: Lade nötiges Paket: SummarizedExperiment\n",
      "\n",
      "R[write to console]: Lade nötiges Paket: MatrixGenerics\n",
      "\n",
      "R[write to console]: Lade nötiges Paket: matrixStats\n",
      "\n",
      "R[write to console]: \n",
      "Attache Paket: ‘MatrixGenerics’\n",
      "\n",
      "\n",
      "R[write to console]: Die folgenden Objekte sind maskiert von ‘package:matrixStats’:\n",
      "\n",
      "    colAlls, colAnyNAs, colAnys, colAvgsPerRowSet, colCollapse,\n",
      "    colCounts, colCummaxs, colCummins, colCumprods, colCumsums,\n",
      "    colDiffs, colIQRDiffs, colIQRs, colLogSumExps, colMadDiffs,\n",
      "    colMads, colMaxs, colMeans2, colMedians, colMins, colOrderStats,\n",
      "    colProds, colQuantiles, colRanges, colRanks, colSdDiffs, colSds,\n",
      "    colSums2, colTabulates, colVarDiffs, colVars, colWeightedMads,\n",
      "    colWeightedMeans, colWeightedMedians, colWeightedSds,\n",
      "    colWeightedVars, rowAlls, rowAnyNAs, rowAnys, rowAvgsPerColSet,\n",
      "    rowCollapse, rowCounts, rowCummaxs, rowCummins, rowCumprods,\n",
      "    rowCumsums, rowDiffs, rowIQRDiffs, rowIQRs, rowLogSumExps,\n",
      "    rowMadDiffs, rowMads, rowMaxs, rowMeans2, rowMedians, rowMins,\n",
      "    rowOrderStats, rowProds, rowQuantiles, rowRanges, rowRanks,\n",
      "    rowSdDiffs, rowSds, rowSums2, rowTabulates, rowVarDiffs, rowVars,\n",
      "    rowWeightedMads, rowWeightedMeans, rowWeightedMedians,\n",
      "    rowWeightedSds, rowWeightedVars\n",
      "\n",
      "\n",
      "R[write to console]: Lade nötiges Paket: GenomicRanges\n",
      "\n",
      "R[write to console]: Lade nötiges Paket: stats4\n",
      "\n",
      "R[write to console]: Lade nötiges Paket: BiocGenerics\n",
      "\n",
      "R[write to console]: Lade nötiges Paket: parallel\n",
      "\n",
      "R[write to console]: \n",
      "Attache Paket: ‘BiocGenerics’\n",
      "\n",
      "\n",
      "R[write to console]: Die folgenden Objekte sind maskiert von ‘package:parallel’:\n",
      "\n",
      "    clusterApply, clusterApplyLB, clusterCall, clusterEvalQ,\n",
      "    clusterExport, clusterMap, parApply, parCapply, parLapply,\n",
      "    parLapplyLB, parRapply, parSapply, parSapplyLB\n",
      "\n",
      "\n",
      "R[write to console]: Die folgenden Objekte sind maskiert von ‘package:stats’:\n",
      "\n",
      "    IQR, mad, sd, var, xtabs\n",
      "\n",
      "\n",
      "R[write to console]: Die folgenden Objekte sind maskiert von ‘package:base’:\n",
      "\n",
      "    anyDuplicated, append, as.data.frame, basename, cbind, colnames,\n",
      "    dirname, do.call, duplicated, eval, evalq, Filter, Find, get, grep,\n",
      "    grepl, intersect, is.unsorted, lapply, Map, mapply, match, mget,\n",
      "    order, paste, pmax, pmax.int, pmin, pmin.int, Position, rank,\n",
      "    rbind, Reduce, rownames, sapply, setdiff, sort, table, tapply,\n",
      "    union, unique, unsplit, which.max, which.min\n",
      "\n",
      "\n",
      "R[write to console]: Lade nötiges Paket: S4Vectors\n",
      "\n",
      "R[write to console]: \n",
      "Attache Paket: ‘S4Vectors’\n",
      "\n",
      "\n",
      "R[write to console]: Die folgenden Objekte sind maskiert von ‘package:base’:\n",
      "\n",
      "    expand.grid, I, unname\n",
      "\n",
      "\n",
      "R[write to console]: Lade nötiges Paket: IRanges\n",
      "\n",
      "R[write to console]: Lade nötiges Paket: GenomeInfoDb\n",
      "\n",
      "R[write to console]: Lade nötiges Paket: Biobase\n",
      "\n",
      "R[write to console]: Welcome to Bioconductor\n",
      "\n",
      "    Vignettes contain introductory material; view with\n",
      "    'browseVignettes()'. To cite Bioconductor, see\n",
      "    'citation(\"Biobase\")', and for packages 'citation(\"pkgname\")'.\n",
      "\n",
      "\n",
      "R[write to console]: \n",
      "Attache Paket: ‘Biobase’\n",
      "\n",
      "\n",
      "R[write to console]: Das folgende Objekt ist maskiert ‘package:MatrixGenerics’:\n",
      "\n",
      "    rowMedians\n",
      "\n",
      "\n",
      "R[write to console]: Die folgenden Objekte sind maskiert von ‘package:matrixStats’:\n",
      "\n",
      "    anyMissing, rowMedians\n",
      "\n",
      "\n",
      "R[write to console]: \n",
      "Attache Paket: ‘SummarizedExperiment’\n",
      "\n",
      "\n",
      "R[write to console]: Das folgende Objekt ist maskiert ‘package:SeuratObject’:\n",
      "\n",
      "    Assays\n",
      "\n",
      "\n",
      "R[write to console]: Das folgende Objekt ist maskiert ‘package:Seurat’:\n",
      "\n",
      "    Assays\n",
      "\n",
      "\n",
      "R[write to console]: Lade nötiges Paket: scuttle\n",
      "\n",
      "R[write to console]: Lade nötiges Paket: ggplot2\n",
      "\n"
     ]
    },
    {
     "data": {
      "text/html": [
       "\n",
       "        <span>StrVector with 25 elements.</span>\n",
       "        <table>\n",
       "        <tbody>\n",
       "          <tr>\n",
       "          \n",
       "            <td>\n",
       "            'scater'\n",
       "            </td>\n",
       "          \n",
       "            <td>\n",
       "            'ggplot2'\n",
       "            </td>\n",
       "          \n",
       "            <td>\n",
       "            'scuttle'\n",
       "            </td>\n",
       "          \n",
       "            <td>\n",
       "            ...\n",
       "            </td>\n",
       "          \n",
       "            <td>\n",
       "            'datasets'\n",
       "            </td>\n",
       "          \n",
       "            <td>\n",
       "            'methods'\n",
       "            </td>\n",
       "          \n",
       "            <td>\n",
       "            'base'\n",
       "            </td>\n",
       "          \n",
       "          </tr>\n",
       "        </tbody>\n",
       "        </table>\n",
       "        "
      ],
      "text/plain": [
       "<rpy2.robjects.vectors.StrVector object at 0x7fb83567f780> [RTYPES.STRSXP]\n",
       "R classes: ('character',)\n",
       "['scater', 'ggplot2', 'scuttle', 'SingleCe..., ..., 'utils', 'datasets', 'methods', 'base']"
      ]
     },
     "execution_count": 3,
     "metadata": {},
     "output_type": "execute_result"
    }
   ],
   "source": [
    "ro.r('library(Seurat)')\n",
    "ro.r('library(scater)')"
   ]
  },
  {
   "cell_type": "code",
   "execution_count": 4,
   "id": "abfd5761-37d4-43ee-867a-dc15afb1fee1",
   "metadata": {},
   "outputs": [],
   "source": [
    "sc.pp.filter_genes(adata, min_cells=5)"
   ]
  },
  {
   "cell_type": "code",
   "execution_count": 5,
   "id": "64aa5d1e-ef14-4635-a526-dad7fb683c13",
   "metadata": {},
   "outputs": [],
   "source": [
    "anndata2ri.activate()"
   ]
  },
  {
   "cell_type": "code",
   "execution_count": 6,
   "id": "90c1eee5-fc29-43fa-b60c-79613de24950",
   "metadata": {},
   "outputs": [],
   "source": [
    "ro.globalenv['adata'] = adata"
   ]
  },
  {
   "cell_type": "code",
   "execution_count": 7,
   "id": "e19eddd3-3ece-4cb5-9b91-255ddd4d2d47",
   "metadata": {},
   "outputs": [],
   "source": [
    "if issparse(adata.X):\n",
    "    if not adata.X.has_sorted_indices:\n",
    "        adata.X.sort_indices()\n",
    "\n",
    "for key in adata.layers:\n",
    "    if issparse(adata.layers[key]):\n",
    "        if not adata.layers[key].has_sorted_indices:\n",
    "            adata.layers[key].sort_indices()"
   ]
  },
  {
   "cell_type": "code",
   "execution_count": 8,
   "id": "eba957aa-2ac6-4f17-b1e6-2a2ddb84f663",
   "metadata": {},
   "outputs": [
    {
     "name": "stderr",
     "output_type": "stream",
     "text": [
      "R[write to console]: Renaming default assay from originalexp to RNA\n",
      "\n"
     ]
    },
    {
     "data": {
      "text/plain": [
       "<rpy2.robjects.methods.RS4 object at 0x7fb8250addc0> [RTYPES.S4SXP]\n",
       "R classes: ('Seurat',)"
      ]
     },
     "execution_count": 8,
     "metadata": {},
     "output_type": "execute_result"
    }
   ],
   "source": [
    "ro.r('seurat_obj = as.Seurat(adata, counts=\"X\", data = NULL)')\n",
    "ro.r('seurat_obj = RenameAssays(seurat_obj, originalexp = \"RNA\")')"
   ]
  },
  {
   "cell_type": "code",
   "execution_count": 9,
   "id": "d6272042-1376-4477-985b-a20edd7175a2",
   "metadata": {},
   "outputs": [
    {
     "name": "stderr",
     "output_type": "stream",
     "text": [
      "R[write to console]: Calculating cell attributes from input UMI matrix: log_umi\n",
      "\n",
      "R[write to console]: Variance stabilizing transformation of count matrix of size 14915 by 3696\n",
      "\n",
      "R[write to console]: Model formula is y ~ log_umi\n",
      "\n",
      "R[write to console]: Get Negative Binomial regression parameters per gene\n",
      "\n",
      "R[write to console]: Using 2000 genes, 3696 cells\n",
      "\n"
     ]
    },
    {
     "name": "stdout",
     "output_type": "stream",
     "text": [
      "  |======================================================================| 100%\n"
     ]
    },
    {
     "name": "stderr",
     "output_type": "stream",
     "text": [
      "R[write to console]: Found 92 outliers - those will be ignored in fitting/regularization step\n",
      "\n",
      "\n",
      "R[write to console]: Second step: Get residuals using fitted parameters for 14915 genes\n",
      "\n"
     ]
    },
    {
     "name": "stdout",
     "output_type": "stream",
     "text": [
      "  |======================================================================| 100%\n"
     ]
    },
    {
     "name": "stderr",
     "output_type": "stream",
     "text": [
      "R[write to console]: Computing corrected count matrix for 14915 genes\n",
      "\n"
     ]
    },
    {
     "name": "stdout",
     "output_type": "stream",
     "text": [
      "  |======================================================================| 100%\n"
     ]
    },
    {
     "name": "stderr",
     "output_type": "stream",
     "text": [
      "R[write to console]: Calculating gene attributes\n",
      "\n",
      "R[write to console]: Wall clock passed: Time difference of 26.88456 secs\n",
      "\n",
      "R[write to console]: Determine variable features\n",
      "\n",
      "R[write to console]: Place corrected count matrix in counts slot\n",
      "\n",
      "R[write to console]: Centering data matrix\n",
      "\n",
      "  |                                                                            \n",
      "  |                                                                      |   0%\n",
      "  |                                                                            \n",
      "  |====                                                                  |   5%\n",
      "  |                                                                            \n",
      "  |=======                                                               |  10%\n",
      "  |                                                                            \n",
      "  |==========                                                            |  15%\n",
      "  |                                                                            \n",
      "  |==============                                                        |  20%\n",
      "  |                                                                            \n",
      "  |==================                                                    |  25%\n",
      "  |                                                                            \n",
      "  |=====================                                                 |  30%\n",
      "  |                                                                            \n",
      "  |========================                                              |  35%\n",
      "  |                                                                            \n",
      "  |============================                                          |  40%\n",
      "  |                                                                            \n",
      "  |================================                                      |  45%\n",
      "  |                                                                            \n",
      "  |===================================                                   |  50%\n",
      "  |                                                                            \n",
      "  |======================================                                |  55%\n",
      "  |                                                                            \n",
      "  |==========================================                            |  60%\n",
      "  |                                                                            \n",
      "  |==============================================                        |  65%\n",
      "  |                                                                            \n",
      "  |=================================================                     |  70%\n",
      "  |                                                                            \n",
      "  |====================================================                  |  75%\n",
      "  |                                                                            \n",
      "  |========================================================              |  80%\n",
      "  |                                                                            \n",
      "  |============================================================          |  85%\n",
      "  |                                                                            \n",
      "  |===============================================================       |  90%\n",
      "  |                                                                            \n",
      "  |==================================================================    |  95%\n",
      "  |                                                                            \n",
      "  |======================================================================| 100%\n",
      "R[write to console]: \n",
      "\n",
      "R[write to console]: Set default assay to SCT\n",
      "\n"
     ]
    },
    {
     "data": {
      "text/plain": [
       "<rpy2.robjects.methods.RS4 object at 0x7fb7e207aec0> [RTYPES.S4SXP]\n",
       "R classes: ('Seurat',)"
      ]
     },
     "execution_count": 9,
     "metadata": {},
     "output_type": "execute_result"
    }
   ],
   "source": [
    "ro.r('res <- SCTransform(object=seurat_obj, method = \"glmGamPoi\", return.only.var.genes = FALSE,)')"
   ]
  },
  {
   "cell_type": "code",
   "execution_count": 10,
   "id": "ede2e1ce-2df5-4048-95ec-cf4be70436d1",
   "metadata": {},
   "outputs": [],
   "source": [
    "norm_x = ro.r('res@assays$SCT@scale.data').T"
   ]
  },
  {
   "cell_type": "code",
   "execution_count": 11,
   "id": "c7858b45-bfc6-4695-8d51-69e992d61e8c",
   "metadata": {},
   "outputs": [],
   "source": [
    "adata.layers['SCT_normalized_residuals'] = norm_x"
   ]
  },
  {
   "cell_type": "code",
   "execution_count": 16,
   "id": "1aed8e7b-6fa4-4e17-8b04-47d335afd254",
   "metadata": {},
   "outputs": [
    {
     "data": {
      "text/plain": [
       "(3696, 14915)"
      ]
     },
     "execution_count": 16,
     "metadata": {},
     "output_type": "execute_result"
    }
   ],
   "source": [
    "norm_x.shape"
   ]
  },
  {
   "cell_type": "code",
   "execution_count": 18,
   "id": "f6e8ba92-2f45-4d89-b3fe-9fdcc4ff9e5b",
   "metadata": {},
   "outputs": [],
   "source": [
    "adata.layers['SCT_corrected_UMI'] = ro.r('res@assays$SCT@counts').T\n",
    "adata.layers['SCT_lognorm_corrected_UMI'] = ro.r('res@assays$SCT@data').T"
   ]
  },
  {
   "cell_type": "code",
   "execution_count": 19,
   "id": "7ca5baae-f09f-41a3-b5b9-c1045cf6d9c7",
   "metadata": {},
   "outputs": [
    {
     "data": {
      "text/plain": [
       "AnnData object with n_obs × n_vars = 3696 × 14915\n",
       "    obs: 'clusters_coarse', 'clusters', 'S_score', 'G2M_score'\n",
       "    var: 'highly_variable_genes', 'n_cells'\n",
       "    uns: 'clusters_coarse_colors', 'clusters_colors', 'day_colors', 'neighbors', 'pca'\n",
       "    obsm: 'X_pca', 'X_umap'\n",
       "    layers: 'spliced', 'unspliced', 'SCT_normalized', 'SCT_corrected_UMI', 'SCT_lognorm_corrected_UMI'\n",
       "    obsp: 'distances', 'connectivities'"
      ]
     },
     "execution_count": 19,
     "metadata": {},
     "output_type": "execute_result"
    }
   ],
   "source": [
    "adata"
   ]
  },
  {
   "cell_type": "code",
   "execution_count": 20,
   "id": "d4583bd8-4f1b-4fbc-a66f-21b190d5345e",
   "metadata": {},
   "outputs": [],
   "source": [
    "adata.write('data/Pancreas/endocrinogenesis_day15_sctransform.h5ad')"
   ]
  }
 ],
 "metadata": {
  "kernelspec": {
   "display_name": "Python 3 (ipykernel)",
   "language": "python",
   "name": "python3"
  },
  "language_info": {
   "codemirror_mode": {
    "name": "ipython",
    "version": 3
   },
   "file_extension": ".py",
   "mimetype": "text/x-python",
   "name": "python",
   "nbconvert_exporter": "python",
   "pygments_lexer": "ipython3",
   "version": "3.8.11"
  }
 },
 "nbformat": 4,
 "nbformat_minor": 5
}
